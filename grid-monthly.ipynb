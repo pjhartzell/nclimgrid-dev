{
 "cells": [
  {
   "cell_type": "code",
   "execution_count": null,
   "metadata": {},
   "outputs": [],
   "source": [
    "import matplotlib.pyplot as plt\n",
    "import cartopy.crs as ccrs\n",
    "import numpy as np\n",
    "import xarray as xr\n",
    "import fsspec"
   ]
  },
  {
   "cell_type": "markdown",
   "metadata": {},
   "source": [
    "## Monthly Precipitation"
   ]
  },
  {
   "cell_type": "code",
   "execution_count": null,
   "metadata": {},
   "outputs": [],
   "source": [
    "# Local file\n",
    "# prcp_file = '/Users/pjh/data/nclimgrid-dev/monthly/nclimgrid_prcp.nc'\n",
    "# with xr.open_dataset(prcp_file) as ncfile:\n",
    "#     xrd = ncfile\n",
    "\n",
    "# # HTTP server - one way\n",
    "# url = 'https://nclimgridwesteurope.blob.core.windows.net/nclimgrid/nclimgrid-monthly/nclimgrid_prcp.nc#mode=bytes'\n",
    "# xrd = xr.open_dataset(url)\n",
    "\n",
    "# HTTP server - another way\n",
    "url = 'https://nclimgridwesteurope.blob.core.windows.net/nclimgrid/nclimgrid-monthly/nclimgrid_prcp.nc'\n",
    "with fsspec.open(url) as fobj:\n",
    "    xrd = xr.open_dataset(fobj)"
   ]
  },
  {
   "cell_type": "code",
   "execution_count": null,
   "metadata": {},
   "outputs": [],
   "source": [
    "t = np.datetime64('2021-10', 'ns')\n",
    "buf = 3\n",
    "\n",
    "central_lon = (xrd.attrs['geospatial_lon_min']+ xrd.attrs['geospatial_lon_max']) / 2\n",
    "central_lat = (xrd.attrs['geospatial_lat_min'] + xrd.attrs['geospatial_lat_max']) / 2\n",
    "extent = [xrd.attrs['geospatial_lon_min'] - buf,\n",
    "          xrd.attrs['geospatial_lon_max'] + buf,\n",
    "          xrd.attrs['geospatial_lat_min'] - buf,\n",
    "          xrd.attrs['geospatial_lat_max'] + buf]\n",
    "\n",
    "plt.figure(figsize=(15,8))\n",
    "ax = plt.axes(projection=ccrs.LambertConformal(central_longitude=central_lon.item(),\n",
    "                                               central_latitude=central_lat.item()))\n",
    "ax.set_extent(extent)\n",
    "prcp = xrd.prcp.sel(time=t).plot.imshow(ax=ax, transform=ccrs.PlateCarree())\n",
    "# prcp.set_clim(0, 700)\n",
    "ax.coastlines()\n",
    "ax.gridlines(draw_labels=True)\n",
    "# plt.savefig('img/prcp_monthly_2021-10.jpg')\n",
    "plt.show()\n",
    "\n"
   ]
  },
  {
   "cell_type": "markdown",
   "metadata": {},
   "source": [
    "## Monthly Average Temperature"
   ]
  },
  {
   "cell_type": "code",
   "execution_count": null,
   "metadata": {},
   "outputs": [],
   "source": [
    "url = 'https://www.ncei.noaa.gov/data/nclimgrid-monthly/access/nclimgrid_tavg.nc'\n",
    "with fsspec.open(url) as fobj:\n",
    "    xrd = xr.open_dataset(fobj)"
   ]
  },
  {
   "cell_type": "code",
   "execution_count": null,
   "metadata": {},
   "outputs": [],
   "source": [
    "t = np.datetime64('2021-10', 'ns')\n",
    "buf = 3\n",
    "\n",
    "central_lon = (xrd.attrs['geospatial_lon_min']+ xrd.attrs['geospatial_lon_max']) / 2\n",
    "central_lat = (xrd.attrs['geospatial_lat_min'] + xrd.attrs['geospatial_lat_max']) / 2\n",
    "extent = [xrd.attrs['geospatial_lon_min'] - buf,\n",
    "          xrd.attrs['geospatial_lon_max'] + buf,\n",
    "          xrd.attrs['geospatial_lat_min'] - buf,\n",
    "          xrd.attrs['geospatial_lat_max'] + buf]\n",
    "\n",
    "plt.figure(figsize=(15,8))\n",
    "ax = plt.axes(projection=ccrs.LambertConformal(central_longitude=central_lon.item(),\n",
    "                                               central_latitude=central_lat.item()))\n",
    "ax.set_extent(extent)\n",
    "tavg = xrd.tavg.sel(time=t).plot.imshow(ax=ax, transform=ccrs.PlateCarree())\n",
    "ax.coastlines()\n",
    "ax.gridlines(draw_labels=True)\n",
    "plt.show()"
   ]
  }
 ],
 "metadata": {
  "interpreter": {
   "hash": "fe13a6c0f11d44034c999b7bae322854e2cb76278dd36992fafe9f5e610973cb"
  },
  "kernelspec": {
   "display_name": "Python 3.8.11 64-bit ('base': conda)",
   "language": "python",
   "name": "python3"
  },
  "language_info": {
   "codemirror_mode": {
    "name": "ipython",
    "version": 3
   },
   "file_extension": ".py",
   "mimetype": "text/x-python",
   "name": "python",
   "nbconvert_exporter": "python",
   "pygments_lexer": "ipython3",
   "version": "3.9.9"
  },
  "orig_nbformat": 4
 },
 "nbformat": 4,
 "nbformat_minor": 2
}
