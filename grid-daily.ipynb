{
 "cells": [
  {
   "cell_type": "code",
   "execution_count": null,
   "metadata": {},
   "outputs": [],
   "source": [
    "import matplotlib.pyplot as plt\n",
    "import cartopy.crs as ccrs\n",
    "import numpy as np\n",
    "import xarray as xr\n",
    "import fsspec"
   ]
  },
  {
   "cell_type": "code",
   "execution_count": null,
   "metadata": {},
   "outputs": [],
   "source": [
    "url = 'https://www1.ncdc.noaa.gov/pub/data/daily-grids/beta/by-month/2021/10/prcp-202110-grd-scaled.nc'\n",
    "with fsspec.open(url) as fobj:\n",
    "    xrd = xr.open_dataset(fobj)"
   ]
  },
  {
   "cell_type": "code",
   "execution_count": null,
   "metadata": {},
   "outputs": [],
   "source": [
    "t = np.datetime64('2021-10-08', 'ns')\n",
    "buf = 3\n",
    "\n",
    "central_lon = (xrd.attrs['geospatial_lon_min']+ xrd.attrs['geospatial_lon_max']) / 2\n",
    "central_lat = (xrd.attrs['geospatial_lat_min'] + xrd.attrs['geospatial_lat_max']) / 2\n",
    "extent = [xrd.attrs['geospatial_lon_min'] - buf,\n",
    "          xrd.attrs['geospatial_lon_max'] + buf,\n",
    "          xrd.attrs['geospatial_lat_min'] - buf,\n",
    "          xrd.attrs['geospatial_lat_max'] + buf]\n",
    "\n",
    "plt.figure(figsize=(15,8))\n",
    "ax = plt.axes(projection=ccrs.LambertConformal(central_longitude=central_lon.item(),\n",
    "                                               central_latitude=central_lat.item()))\n",
    "ax.set_extent(extent)\n",
    "prcp = xrd.prcp.sel(time=t).plot.imshow(ax=ax, transform=ccrs.PlateCarree())\n",
    "# prcp.set_clim(0, 12)\n",
    "ax.coastlines()\n",
    "ax.gridlines(draw_labels=True)\n",
    "plt.show()"
   ]
  }
 ],
 "metadata": {
  "interpreter": {
   "hash": "563f5e9e6dd3c2c5628b23fadf01a02b0dc04083b7b5577a3dd77072abc25ab3"
  },
  "kernelspec": {
   "display_name": "Python 3.10.1 64-bit ('nclimgrid-dev': conda)",
   "language": "python",
   "name": "python3"
  },
  "language_info": {
   "codemirror_mode": {
    "name": "ipython",
    "version": 3
   },
   "file_extension": ".py",
   "mimetype": "text/x-python",
   "name": "python",
   "nbconvert_exporter": "python",
   "pygments_lexer": "ipython3",
   "version": "3.9.9"
  },
  "orig_nbformat": 4
 },
 "nbformat": 4,
 "nbformat_minor": 2
}
